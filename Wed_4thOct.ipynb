{
 "cells": [
  {
   "cell_type": "code",
   "execution_count": 1,
   "metadata": {},
   "outputs": [
    {
     "name": "stdout",
     "output_type": "stream",
     "text": [
      "pressure [0.273, 0.275, 0.277, 0.275, 0.276]\n",
      "length: 5\n"
     ]
    }
   ],
   "source": [
    "pressure = [0.273,0.275,0.277,0.275,0.276]\n",
    "print('pressure',pressure)\n",
    "print('length:',len(pressure))"
   ]
  },
  {
   "cell_type": "code",
   "execution_count": 2,
   "metadata": {},
   "outputs": [
    {
     "name": "stdout",
     "output_type": "stream",
     "text": [
      "first item: 0.273\n",
      "forth item: 0.275\n"
     ]
    }
   ],
   "source": [
    "print('first item:',pressure[0])\n",
    "print('forth item:',pressure[3])"
   ]
  },
  {
   "cell_type": "code",
   "execution_count": 3,
   "metadata": {},
   "outputs": [
    {
     "name": "stdout",
     "output_type": "stream",
     "text": [
      "[0.265, 0.275, 0.277, 0.275, 0.276]\n"
     ]
    }
   ],
   "source": [
    "pressure[0]=0.265\n",
    "print(pressure)"
   ]
  },
  {
   "cell_type": "code",
   "execution_count": 4,
   "metadata": {},
   "outputs": [
    {
     "name": "stdout",
     "output_type": "stream",
     "text": [
      "initiall primes: [2, 3, 5]\n",
      "[2, 3, 5, 7, 9]\n"
     ]
    }
   ],
   "source": [
    "primes=[2,3,5]\n",
    "print('initiall primes:',primes)\n",
    "primes.append(7)\n",
    "primes.append(9)\n",
    "print(primes)"
   ]
  },
  {
   "cell_type": "code",
   "execution_count": 5,
   "metadata": {},
   "outputs": [
    {
     "data": {
      "text/plain": [
       "[5, 6, 7, 8]"
      ]
     },
     "execution_count": 5,
     "metadata": {},
     "output_type": "execute_result"
    }
   ],
   "source": [
    "[5,6]+[7,8]"
   ]
  },
  {
   "cell_type": "code",
   "execution_count": 6,
   "metadata": {
    "collapsed": true
   },
   "outputs": [],
   "source": [
    "teen_primes=[11,13,17,19]\n"
   ]
  },
  {
   "cell_type": "code",
   "execution_count": 7,
   "metadata": {
    "collapsed": true
   },
   "outputs": [],
   "source": [
    "primes.append(teen_primes)\n"
   ]
  },
  {
   "cell_type": "code",
   "execution_count": 8,
   "metadata": {},
   "outputs": [
    {
     "name": "stdout",
     "output_type": "stream",
     "text": [
      "[2, 3, 5, 7, 9, [11, 13, 17, 19]]\n"
     ]
    }
   ],
   "source": [
    "print(primes)"
   ]
  },
  {
   "cell_type": "code",
   "execution_count": 10,
   "metadata": {},
   "outputs": [
    {
     "name": "stdout",
     "output_type": "stream",
     "text": [
      "[2, 3, 5, 7, 9, [11, 13, 17, 19], 'Number', 'Number']\n"
     ]
    }
   ],
   "source": [
    "primes.append('Number')\n",
    "print(primes)"
   ]
  },
  {
   "cell_type": "code",
   "execution_count": 11,
   "metadata": {},
   "outputs": [
    {
     "name": "stdout",
     "output_type": "stream",
     "text": [
      "[2, 3, 5, 7, 9, [11, 13, 17, 19], 'Number']\n"
     ]
    }
   ],
   "source": [
    "del primes[-1]\n",
    "print(primes)"
   ]
  },
  {
   "cell_type": "code",
   "execution_count": 12,
   "metadata": {
    "collapsed": true
   },
   "outputs": [],
   "source": [
    "del  primes[4:]"
   ]
  },
  {
   "cell_type": "code",
   "execution_count": 13,
   "metadata": {},
   "outputs": [
    {
     "name": "stdout",
     "output_type": "stream",
     "text": [
      "[2, 3, 5, 7]\n"
     ]
    }
   ],
   "source": [
    "print(primes)"
   ]
  },
  {
   "cell_type": "code",
   "execution_count": 14,
   "metadata": {},
   "outputs": [
    {
     "name": "stdout",
     "output_type": "stream",
     "text": [
      "[2, 3, 5, 7, 11, 13, 17, 19]\n"
     ]
    }
   ],
   "source": [
    "primes.extend(teen_primes)\n",
    "print(primes)"
   ]
  },
  {
   "cell_type": "code",
   "execution_count": 15,
   "metadata": {},
   "outputs": [
    {
     "name": "stdout",
     "output_type": "stream",
     "text": [
      "_\n"
     ]
    }
   ],
   "source": [
    "my_text='Some_name'\n",
    "print(my_text[4])"
   ]
  },
  {
   "cell_type": "code",
   "execution_count": 16,
   "metadata": {},
   "outputs": [
    {
     "ename": "TypeError",
     "evalue": "'str' object does not support item assignment",
     "output_type": "error",
     "traceback": [
      "\u001b[0;31m---------------------------------------------------------------------------\u001b[0m",
      "\u001b[0;31mTypeError\u001b[0m                                 Traceback (most recent call last)",
      "\u001b[0;32m<ipython-input-16-1adf0109a420>\u001b[0m in \u001b[0;36m<module>\u001b[0;34m()\u001b[0m\n\u001b[0;32m----> 1\u001b[0;31m \u001b[0mmy_text\u001b[0m\u001b[0;34m[\u001b[0m\u001b[0;36m4\u001b[0m\u001b[0;34m]\u001b[0m\u001b[0;34m=\u001b[0m\u001b[0;34m'+'\u001b[0m\u001b[0;34m\u001b[0m\u001b[0m\n\u001b[0m",
      "\u001b[0;31mTypeError\u001b[0m: 'str' object does not support item assignment"
     ]
    }
   ],
   "source": [
    "my_text[4]='+'"
   ]
  },
  {
   "cell_type": "code",
   "execution_count": 17,
   "metadata": {},
   "outputs": [
    {
     "name": "stdout",
     "output_type": "stream",
     "text": [
      "[]\n"
     ]
    }
   ],
   "source": [
    "empty_list=[]\n",
    "print(empty_list)"
   ]
  },
  {
   "cell_type": "code",
   "execution_count": 19,
   "metadata": {},
   "outputs": [
    {
     "name": "stdout",
     "output_type": "stream",
     "text": [
      "first time: [1, 3, 5]\n"
     ]
    }
   ],
   "source": [
    "values = []\n",
    "values.append(1)\n",
    "values.append(3)\n",
    "values.append(5)\n",
    "print('first time:', values)\n",
    "\n"
   ]
  },
  {
   "cell_type": "code",
   "execution_count": 20,
   "metadata": {},
   "outputs": [
    {
     "name": "stdout",
     "output_type": "stream",
     "text": [
      "second time: [3, 5]\n"
     ]
    }
   ],
   "source": [
    "values = values[1:]\n",
    "print('second time:', values)"
   ]
  },
  {
   "cell_type": "code",
   "execution_count": 24,
   "metadata": {},
   "outputs": [
    {
     "name": "stdout",
     "output_type": "stream",
     "text": [
      "[5, 7, 11]\n"
     ]
    }
   ],
   "source": [
    "print(primes[2:5])"
   ]
  },
  {
   "cell_type": "code",
   "execution_count": 25,
   "metadata": {},
   "outputs": [
    {
     "name": "stdout",
     "output_type": "stream",
     "text": [
      "['T', 'e', 'm', 'i', 't', 'o', 'p', 'e']\n"
     ]
    }
   ],
   "source": [
    "name='Temitope'\n",
    "list_name=list(name)\n",
    "print(list_name)"
   ]
  },
  {
   "cell_type": "code",
   "execution_count": 26,
   "metadata": {},
   "outputs": [
    {
     "name": "stdout",
     "output_type": "stream",
     "text": [
      "['T', 'e', 'm', '?', 't', 'o', 'p', 'e']\n"
     ]
    }
   ],
   "source": [
    "list_name[3]='?'\n",
    "print(list_name)"
   ]
  },
  {
   "cell_type": "code",
   "execution_count": 32,
   "metadata": {
    "collapsed": true
   },
   "outputs": [],
   "source": [
    "new_name=\"\".join(list_name)"
   ]
  },
  {
   "cell_type": "code",
   "execution_count": 33,
   "metadata": {},
   "outputs": [
    {
     "name": "stdout",
     "output_type": "stream",
     "text": [
      "Tem?tope\n"
     ]
    }
   ],
   "source": [
    "print(new_name)"
   ]
  },
  {
   "cell_type": "code",
   "execution_count": 36,
   "metadata": {},
   "outputs": [
    {
     "name": "stdout",
     "output_type": "stream",
     "text": [
      "furn\n",
      "eniroulf\n"
     ]
    }
   ],
   "source": [
    "element='fluorine'\n",
    "print(element[::2])\n",
    "print(element[::-1])"
   ]
  },
  {
   "cell_type": "code",
   "execution_count": 37,
   "metadata": {},
   "outputs": [
    {
     "name": "stdout",
     "output_type": "stream",
     "text": [
      "new is ['O', 'l', 'd'] and old is ['O', 'l', 'd']\n"
     ]
    }
   ],
   "source": [
    "old=list('old')\n",
    "new=old\n",
    "new[0]='O'\n",
    "print('new is',new,'and old is',old)"
   ]
  },
  {
   "cell_type": "code",
   "execution_count": 38,
   "metadata": {},
   "outputs": [
    {
     "name": "stdout",
     "output_type": "stream",
     "text": [
      "new is ['O', 'l', 'd'] and old is ['o', 'l', 'd']\n"
     ]
    }
   ],
   "source": [
    "old=list('old')\n",
    "new=old[:]\n",
    "new[0]='O'\n",
    "print('new is',new,'and old is',old)"
   ]
  },
  {
   "cell_type": "markdown",
   "metadata": {},
   "source": [
    "## Loops"
   ]
  },
  {
   "cell_type": "code",
   "execution_count": 39,
   "metadata": {},
   "outputs": [
    {
     "name": "stdout",
     "output_type": "stream",
     "text": [
      "2\n",
      "3\n",
      "5\n"
     ]
    }
   ],
   "source": [
    "for number in [2,3,5]:\n",
    "    print(number)"
   ]
  },
  {
   "cell_type": "code",
   "execution_count": 42,
   "metadata": {},
   "outputs": [
    {
     "ename": "IndentationError",
     "evalue": "expected an indented block (<ipython-input-42-6049c20df1cf>, line 2)",
     "output_type": "error",
     "traceback": [
      "\u001b[0;36m  File \u001b[0;32m\"<ipython-input-42-6049c20df1cf>\"\u001b[0;36m, line \u001b[0;32m2\u001b[0m\n\u001b[0;31m    print(number)\u001b[0m\n\u001b[0m        ^\u001b[0m\n\u001b[0;31mIndentationError\u001b[0m\u001b[0;31m:\u001b[0m expected an indented block\n"
     ]
    }
   ],
   "source": [
    "for number in [2,3,5]:\n",
    "print(number)\n",
    "    "
   ]
  },
  {
   "cell_type": "code",
   "execution_count": 43,
   "metadata": {},
   "outputs": [
    {
     "name": "stdout",
     "output_type": "stream",
     "text": [
      "2\n",
      "3\n",
      "5\n"
     ]
    }
   ],
   "source": [
    "for bananas in [2,3,5]:\n",
    "    print(bananas)"
   ]
  },
  {
   "cell_type": "code",
   "execution_count": 44,
   "metadata": {},
   "outputs": [
    {
     "name": "stdout",
     "output_type": "stream",
     "text": [
      "2\n",
      "3\n",
      "5\n",
      "7\n",
      "11\n",
      "13\n",
      "17\n",
      "19\n"
     ]
    }
   ],
   "source": [
    "for bananas in primes:\n",
    "    print(bananas)"
   ]
  },
  {
   "cell_type": "code",
   "execution_count": 45,
   "metadata": {},
   "outputs": [
    {
     "name": "stdout",
     "output_type": "stream",
     "text": [
      "2 4 8\n",
      "3 9 27\n",
      "5 25 125\n"
     ]
    }
   ],
   "source": [
    "for bananas in [2,3,5]:\n",
    "    square=bananas**2\n",
    "    cube=bananas**3\n",
    "    print(bananas,square,cube)"
   ]
  },
  {
   "cell_type": "code",
   "execution_count": 46,
   "metadata": {},
   "outputs": [
    {
     "name": "stdout",
     "output_type": "stream",
     "text": [
      "0\n",
      "1\n",
      "2\n",
      "3\n",
      "4\n"
     ]
    }
   ],
   "source": [
    "for i in range(5):\n",
    "    print(i)"
   ]
  },
  {
   "cell_type": "code",
   "execution_count": 48,
   "metadata": {},
   "outputs": [
    {
     "name": "stdout",
     "output_type": "stream",
     "text": [
      "1\n",
      "2\n",
      "3\n",
      "4\n"
     ]
    }
   ],
   "source": [
    "for i in range(1,5):\n",
    "    print(i)"
   ]
  },
  {
   "cell_type": "code",
   "execution_count": 50,
   "metadata": {},
   "outputs": [
    {
     "name": "stdout",
     "output_type": "stream",
     "text": [
      "10\n"
     ]
    }
   ],
   "source": [
    "total=0\n",
    "for i in range(10):\n",
    "    total=total+1\n",
    "print(total)"
   ]
  },
  {
   "cell_type": "code",
   "execution_count": 51,
   "metadata": {},
   "outputs": [
    {
     "name": "stdout",
     "output_type": "stream",
     "text": [
      "10\n"
     ]
    }
   ],
   "source": [
    "total=0\n",
    "for i in range(10):\n",
    "    total+=1\n",
    "print(total)"
   ]
  },
  {
   "cell_type": "code",
   "execution_count": 53,
   "metadata": {},
   "outputs": [
    {
     "name": "stdout",
     "output_type": "stream",
     "text": [
      "3\n"
     ]
    }
   ],
   "source": [
    "ii=0\n",
    "for char in 'tin':\n",
    "    ii+=1\n",
    "print(ii)\n",
    "    "
   ]
  },
  {
   "cell_type": "code",
   "execution_count": 54,
   "metadata": {},
   "outputs": [
    {
     "name": "stdout",
     "output_type": "stream",
     "text": [
      "12\n"
     ]
    }
   ],
   "source": [
    "total = 0\n",
    "for word in [\"red\", \"green\", \"blue\"]:\n",
    "    total = total + len(word)\n",
    "print(total)"
   ]
  },
  {
   "cell_type": "code",
   "execution_count": 55,
   "metadata": {
    "collapsed": true
   },
   "outputs": [],
   "source": [
    "import pandas as pd\n",
    "import matplotlib.pyplot as plt\n",
    "%matplotlib inline\n",
    "data = pd.read_csv('data/gapminder_gdp_oceania.csv', index_col='country')\n",
    "# Accumulator pattern to collect years (as character strings).\n"
   ]
  },
  {
   "cell_type": "code",
   "execution_count": 58,
   "metadata": {},
   "outputs": [
    {
     "data": {
      "text/html": [
       "<div>\n",
       "<table border=\"1\" class=\"dataframe\">\n",
       "  <thead>\n",
       "    <tr style=\"text-align: right;\">\n",
       "      <th></th>\n",
       "      <th>gdpPercap_1952</th>\n",
       "      <th>gdpPercap_1957</th>\n",
       "      <th>gdpPercap_1962</th>\n",
       "      <th>gdpPercap_1967</th>\n",
       "      <th>gdpPercap_1972</th>\n",
       "      <th>gdpPercap_1977</th>\n",
       "      <th>gdpPercap_1982</th>\n",
       "      <th>gdpPercap_1987</th>\n",
       "      <th>gdpPercap_1992</th>\n",
       "      <th>gdpPercap_1997</th>\n",
       "      <th>gdpPercap_2002</th>\n",
       "      <th>gdpPercap_2007</th>\n",
       "    </tr>\n",
       "    <tr>\n",
       "      <th>country</th>\n",
       "      <th></th>\n",
       "      <th></th>\n",
       "      <th></th>\n",
       "      <th></th>\n",
       "      <th></th>\n",
       "      <th></th>\n",
       "      <th></th>\n",
       "      <th></th>\n",
       "      <th></th>\n",
       "      <th></th>\n",
       "      <th></th>\n",
       "      <th></th>\n",
       "    </tr>\n",
       "  </thead>\n",
       "  <tbody>\n",
       "    <tr>\n",
       "      <th>Australia</th>\n",
       "      <td>10039.59564</td>\n",
       "      <td>10949.64959</td>\n",
       "      <td>12217.22686</td>\n",
       "      <td>14526.12465</td>\n",
       "      <td>16788.62948</td>\n",
       "      <td>18334.19751</td>\n",
       "      <td>19477.00928</td>\n",
       "      <td>21888.88903</td>\n",
       "      <td>23424.76683</td>\n",
       "      <td>26997.93657</td>\n",
       "      <td>30687.75473</td>\n",
       "      <td>34435.36744</td>\n",
       "    </tr>\n",
       "    <tr>\n",
       "      <th>New Zealand</th>\n",
       "      <td>10556.57566</td>\n",
       "      <td>12247.39532</td>\n",
       "      <td>13175.67800</td>\n",
       "      <td>14463.91893</td>\n",
       "      <td>16046.03728</td>\n",
       "      <td>16233.71770</td>\n",
       "      <td>17632.41040</td>\n",
       "      <td>19007.19129</td>\n",
       "      <td>18363.32494</td>\n",
       "      <td>21050.41377</td>\n",
       "      <td>23189.80135</td>\n",
       "      <td>25185.00911</td>\n",
       "    </tr>\n",
       "  </tbody>\n",
       "</table>\n",
       "</div>"
      ],
      "text/plain": [
       "             gdpPercap_1952  gdpPercap_1957  gdpPercap_1962  gdpPercap_1967  \\\n",
       "country                                                                       \n",
       "Australia       10039.59564     10949.64959     12217.22686     14526.12465   \n",
       "New Zealand     10556.57566     12247.39532     13175.67800     14463.91893   \n",
       "\n",
       "             gdpPercap_1972  gdpPercap_1977  gdpPercap_1982  gdpPercap_1987  \\\n",
       "country                                                                       \n",
       "Australia       16788.62948     18334.19751     19477.00928     21888.88903   \n",
       "New Zealand     16046.03728     16233.71770     17632.41040     19007.19129   \n",
       "\n",
       "             gdpPercap_1992  gdpPercap_1997  gdpPercap_2002  gdpPercap_2007  \n",
       "country                                                                      \n",
       "Australia       23424.76683     26997.93657     30687.75473     34435.36744  \n",
       "New Zealand     18363.32494     21050.41377     23189.80135     25185.00911  "
      ]
     },
     "execution_count": 58,
     "metadata": {},
     "output_type": "execute_result"
    }
   ],
   "source": [
    "data"
   ]
  },
  {
   "cell_type": "code",
   "execution_count": 59,
   "metadata": {},
   "outputs": [
    {
     "data": {
      "text/plain": [
       "Index(['gdpPercap_1952', 'gdpPercap_1957', 'gdpPercap_1962', 'gdpPercap_1967',\n",
       "       'gdpPercap_1972', 'gdpPercap_1977', 'gdpPercap_1982', 'gdpPercap_1987',\n",
       "       'gdpPercap_1992', 'gdpPercap_1997', 'gdpPercap_2002', 'gdpPercap_2007'],\n",
       "      dtype='object')"
      ]
     },
     "execution_count": 59,
     "metadata": {},
     "output_type": "execute_result"
    }
   ],
   "source": [
    "data.columns"
   ]
  },
  {
   "cell_type": "code",
   "execution_count": 60,
   "metadata": {
    "collapsed": true
   },
   "outputs": [],
   "source": [
    "# Accumulator pattern to collect years (as character strings).\n",
    "years = []\n",
    "for col in data.columns:\n",
    "    year = col[-4:]\n",
    "    years.append(year)"
   ]
  },
  {
   "cell_type": "code",
   "execution_count": 62,
   "metadata": {},
   "outputs": [
    {
     "name": "stdout",
     "output_type": "stream",
     "text": [
      "['1952', '1957', '1962', '1967', '1972', '1977', '1982', '1987', '1992', '1997', '2002', '2007']\n"
     ]
    }
   ],
   "source": [
    "print(years)"
   ]
  },
  {
   "cell_type": "code",
   "execution_count": 68,
   "metadata": {},
   "outputs": [
    {
     "data": {
      "image/png": "[encoded data removed]",
      "text/plain": [
       "<matplotlib.figure.Figure at 0x1147d8358>"
      ]
     },
     "metadata": {},
     "output_type": "display_data"
    }
   ],
   "source": [
    "# Select two countries' worth of data.\n",
    "gdp_australia = data.loc['Australia']\n",
    "gdp_nz = data.loc['New Zealand']\n",
    "\n",
    "# Plot with differently-colored markers.\n",
    "plt.style.use('ggplot')\n",
    "plt.plot(years, gdp_australia, 'b-',\n",
    "         label='Australia')\n",
    "plt.plot(years, gdp_nz, 'g-', label='New Zealand')\n",
    "\n",
    "# Create legend.\n",
    "plt.legend(loc='upper left')\n",
    "plt.xlabel('Year')\n",
    "plt.ylabel('GDP per capita ($)')\n",
    "plt.show()"
   ]
  },
  {
   "cell_type": "code",
   "execution_count": 64,
   "metadata": {},
   "outputs": [
    {
     "data": {
      "text/html": [
       "<div>\n",
       "<table border=\"1\" class=\"dataframe\">\n",
       "  <thead>\n",
       "    <tr style=\"text-align: right;\">\n",
       "      <th></th>\n",
       "      <th>gdpPercap_1952</th>\n",
       "      <th>gdpPercap_1957</th>\n",
       "      <th>gdpPercap_1962</th>\n",
       "      <th>gdpPercap_1967</th>\n",
       "      <th>gdpPercap_1972</th>\n",
       "      <th>gdpPercap_1977</th>\n",
       "      <th>gdpPercap_1982</th>\n",
       "      <th>gdpPercap_1987</th>\n",
       "      <th>gdpPercap_1992</th>\n",
       "      <th>gdpPercap_1997</th>\n",
       "      <th>gdpPercap_2002</th>\n",
       "      <th>gdpPercap_2007</th>\n",
       "    </tr>\n",
       "  </thead>\n",
       "  <tbody>\n",
       "    <tr>\n",
       "      <th>count</th>\n",
       "      <td>2.000000</td>\n",
       "      <td>2.000000</td>\n",
       "      <td>2.000000</td>\n",
       "      <td>2.000000</td>\n",
       "      <td>2.00000</td>\n",
       "      <td>2.000000</td>\n",
       "      <td>2.000000</td>\n",
       "      <td>2.000000</td>\n",
       "      <td>2.000000</td>\n",
       "      <td>2.000000</td>\n",
       "      <td>2.000000</td>\n",
       "      <td>2.000000</td>\n",
       "    </tr>\n",
       "    <tr>\n",
       "      <th>mean</th>\n",
       "      <td>10298.085650</td>\n",
       "      <td>11598.522455</td>\n",
       "      <td>12696.452430</td>\n",
       "      <td>14495.021790</td>\n",
       "      <td>16417.33338</td>\n",
       "      <td>17283.957605</td>\n",
       "      <td>18554.709840</td>\n",
       "      <td>20448.040160</td>\n",
       "      <td>20894.045885</td>\n",
       "      <td>24024.175170</td>\n",
       "      <td>26938.778040</td>\n",
       "      <td>29810.188275</td>\n",
       "    </tr>\n",
       "    <tr>\n",
       "      <th>std</th>\n",
       "      <td>365.560078</td>\n",
       "      <td>917.644806</td>\n",
       "      <td>677.727301</td>\n",
       "      <td>43.986086</td>\n",
       "      <td>525.09198</td>\n",
       "      <td>1485.263517</td>\n",
       "      <td>1304.328377</td>\n",
       "      <td>2037.668013</td>\n",
       "      <td>3578.979883</td>\n",
       "      <td>4205.533703</td>\n",
       "      <td>5301.853680</td>\n",
       "      <td>6540.991104</td>\n",
       "    </tr>\n",
       "    <tr>\n",
       "      <th>min</th>\n",
       "      <td>10039.595640</td>\n",
       "      <td>10949.649590</td>\n",
       "      <td>12217.226860</td>\n",
       "      <td>14463.918930</td>\n",
       "      <td>16046.03728</td>\n",
       "      <td>16233.717700</td>\n",
       "      <td>17632.410400</td>\n",
       "      <td>19007.191290</td>\n",
       "      <td>18363.324940</td>\n",
       "      <td>21050.413770</td>\n",
       "      <td>23189.801350</td>\n",
       "      <td>25185.009110</td>\n",
       "    </tr>\n",
       "    <tr>\n",
       "      <th>25%</th>\n",
       "      <td>10168.840645</td>\n",
       "      <td>11274.086022</td>\n",
       "      <td>12456.839645</td>\n",
       "      <td>14479.470360</td>\n",
       "      <td>16231.68533</td>\n",
       "      <td>16758.837652</td>\n",
       "      <td>18093.560120</td>\n",
       "      <td>19727.615725</td>\n",
       "      <td>19628.685413</td>\n",
       "      <td>22537.294470</td>\n",
       "      <td>25064.289695</td>\n",
       "      <td>27497.598692</td>\n",
       "    </tr>\n",
       "    <tr>\n",
       "      <th>50%</th>\n",
       "      <td>10298.085650</td>\n",
       "      <td>11598.522455</td>\n",
       "      <td>12696.452430</td>\n",
       "      <td>14495.021790</td>\n",
       "      <td>16417.33338</td>\n",
       "      <td>17283.957605</td>\n",
       "      <td>18554.709840</td>\n",
       "      <td>20448.040160</td>\n",
       "      <td>20894.045885</td>\n",
       "      <td>24024.175170</td>\n",
       "      <td>26938.778040</td>\n",
       "      <td>29810.188275</td>\n",
       "    </tr>\n",
       "    <tr>\n",
       "      <th>75%</th>\n",
       "      <td>10427.330655</td>\n",
       "      <td>11922.958888</td>\n",
       "      <td>12936.065215</td>\n",
       "      <td>14510.573220</td>\n",
       "      <td>16602.98143</td>\n",
       "      <td>17809.077557</td>\n",
       "      <td>19015.859560</td>\n",
       "      <td>21168.464595</td>\n",
       "      <td>22159.406358</td>\n",
       "      <td>25511.055870</td>\n",
       "      <td>28813.266385</td>\n",
       "      <td>32122.777857</td>\n",
       "    </tr>\n",
       "    <tr>\n",
       "      <th>max</th>\n",
       "      <td>10556.575660</td>\n",
       "      <td>12247.395320</td>\n",
       "      <td>13175.678000</td>\n",
       "      <td>14526.124650</td>\n",
       "      <td>16788.62948</td>\n",
       "      <td>18334.197510</td>\n",
       "      <td>19477.009280</td>\n",
       "      <td>21888.889030</td>\n",
       "      <td>23424.766830</td>\n",
       "      <td>26997.936570</td>\n",
       "      <td>30687.754730</td>\n",
       "      <td>34435.367440</td>\n",
       "    </tr>\n",
       "  </tbody>\n",
       "</table>\n",
       "</div>"
      ],
      "text/plain": [
       "       gdpPercap_1952  gdpPercap_1957  gdpPercap_1962  gdpPercap_1967  \\\n",
       "count        2.000000        2.000000        2.000000        2.000000   \n",
       "mean     10298.085650    11598.522455    12696.452430    14495.021790   \n",
       "std        365.560078      917.644806      677.727301       43.986086   \n",
       "min      10039.595640    10949.649590    12217.226860    14463.918930   \n",
       "25%      10168.840645    11274.086022    12456.839645    14479.470360   \n",
       "50%      10298.085650    11598.522455    12696.452430    14495.021790   \n",
       "75%      10427.330655    11922.958888    12936.065215    14510.573220   \n",
       "max      10556.575660    12247.395320    13175.678000    14526.124650   \n",
       "\n",
       "       gdpPercap_1972  gdpPercap_1977  gdpPercap_1982  gdpPercap_1987  \\\n",
       "count         2.00000        2.000000        2.000000        2.000000   \n",
       "mean      16417.33338    17283.957605    18554.709840    20448.040160   \n",
       "std         525.09198     1485.263517     1304.328377     2037.668013   \n",
       "min       16046.03728    16233.717700    17632.410400    19007.191290   \n",
       "25%       16231.68533    16758.837652    18093.560120    19727.615725   \n",
       "50%       16417.33338    17283.957605    18554.709840    20448.040160   \n",
       "75%       16602.98143    17809.077557    19015.859560    21168.464595   \n",
       "max       16788.62948    18334.197510    19477.009280    21888.889030   \n",
       "\n",
       "       gdpPercap_1992  gdpPercap_1997  gdpPercap_2002  gdpPercap_2007  \n",
       "count        2.000000        2.000000        2.000000        2.000000  \n",
       "mean     20894.045885    24024.175170    26938.778040    29810.188275  \n",
       "std       3578.979883     4205.533703     5301.853680     6540.991104  \n",
       "min      18363.324940    21050.413770    23189.801350    25185.009110  \n",
       "25%      19628.685413    22537.294470    25064.289695    27497.598692  \n",
       "50%      20894.045885    24024.175170    26938.778040    29810.188275  \n",
       "75%      22159.406358    25511.055870    28813.266385    32122.777857  \n",
       "max      23424.766830    26997.936570    30687.754730    34435.367440  "
      ]
     },
     "execution_count": 64,
     "metadata": {},
     "output_type": "execute_result"
    }
   ],
   "source": [
    "data.describe()"
   ]
  },
  {
   "cell_type": "code",
   "execution_count": 69,
   "metadata": {},
   "outputs": [],
   "source": [
    "files=['gapminder_gdp_africa.csv','gapminder_gdp_americas.csv',\n",
    "       'gapminder_gdp_asia.csv','gapminder_gdp_europe.csv',\n",
    "       'gapminder_gdp_oceania.csv']"
   ]
  },
  {
   "cell_type": "code",
   "execution_count": 72,
   "metadata": {},
   "outputs": [
    {
     "name": "stdout",
     "output_type": "stream",
     "text": [
      "       gdpPercap_1952  gdpPercap_1957  gdpPercap_1962  gdpPercap_1967  \\\n",
      "count       52.000000       52.000000       52.000000       52.000000   \n",
      "mean      1252.572466     1385.236062     1598.078825     2050.363801   \n",
      "std        982.952116     1134.508918     1461.839189     2847.717603   \n",
      "min        298.846212      335.997115      355.203227      412.977514   \n",
      "25%        534.990554      606.954355      673.329046      779.815648   \n",
      "50%        987.025569     1024.022987     1133.783677     1210.376379   \n",
      "75%       1454.886645     1573.040442     1702.219247     1890.112274   \n",
      "max       4725.295531     5487.104219     6757.030816    18772.751690   \n",
      "\n",
      "       gdpPercap_1972  gdpPercap_1977  gdpPercap_1982  gdpPercap_1987  \\\n",
      "count       52.000000       52.000000       52.000000       52.000000   \n",
      "mean      2339.615674     2585.938508     2481.592960     2282.668991   \n",
      "std       3286.853884     4142.398707     3242.632753     2566.531947   \n",
      "min        464.099504      502.319733      462.211415      389.876185   \n",
      "25%        815.919804      805.612125      828.656854      764.598759   \n",
      "50%       1443.372508     1399.638836     1323.728306     1219.585563   \n",
      "75%       2292.258613     2841.282025     2787.582271     2786.310885   \n",
      "max      21011.497210    21951.211760    17364.275380    11864.408440   \n",
      "\n",
      "       gdpPercap_1992  gdpPercap_1997  gdpPercap_2002  gdpPercap_2007  \n",
      "count       52.000000       52.000000       52.000000       52.000000  \n",
      "mean      2281.810333     2378.759555     2599.385159     3089.032605  \n",
      "std       2644.075602     2820.728117     2972.651308     3618.163491  \n",
      "min        410.896824      312.188423      241.165877      277.551859  \n",
      "25%        743.908497      791.901966      780.577824      862.951537  \n",
      "50%       1161.631357     1179.883114     1215.683217     1452.267078  \n",
      "75%       2707.896077     2856.386031     3314.887180     3993.501583  \n",
      "max      13522.157520    14722.841880    12521.713920    13206.484520  \n",
      "       gdpPercap_1952  gdpPercap_1957  gdpPercap_1962  gdpPercap_1967  \\\n",
      "count       25.000000       25.000000       25.000000       25.000000   \n",
      "mean      4079.062552     4616.043733     4901.541870     5668.253496   \n",
      "std       3001.727522     3312.381083     3421.740569     4160.885560   \n",
      "min       1397.717137     1544.402995     1662.137359     1452.057666   \n",
      "25%       2428.237769     2487.365989     2750.364446     3242.531147   \n",
      "50%       3048.302900     3780.546651     4086.114078     4643.393534   \n",
      "75%       3939.978789     4756.525781     5180.755910     5788.093330   \n",
      "max      13990.482080    14847.127120    16173.145860    19530.365570   \n",
      "\n",
      "       gdpPercap_1972  gdpPercap_1977  gdpPercap_1982  gdpPercap_1987  \\\n",
      "count       25.000000       25.000000       25.000000       25.000000   \n",
      "mean      6491.334139     7352.007126     7506.737088     7793.400261   \n",
      "std       4754.404329     5355.602518     5530.490471     6665.039509   \n",
      "min       1654.456946     1874.298931     2011.159549     1823.015995   \n",
      "25%       4031.408271     4756.763836     4258.503604     4140.442097   \n",
      "50%       5305.445256     6281.290855     6434.501797     6360.943444   \n",
      "75%       6809.406690     7674.929108     8997.897412     7807.095818   \n",
      "max      21806.035940    24072.632130    25009.559140    29884.350410   \n",
      "\n",
      "       gdpPercap_1992  gdpPercap_1997  gdpPercap_2002  gdpPercap_2007  \n",
      "count       25.000000       25.000000       25.000000       25.000000  \n",
      "mean      8044.934406     8889.300863     9287.677107    11003.031625  \n",
      "std       7047.089191     7874.225145     8895.817785     9713.209302  \n",
      "min       1456.309517     1341.726931     1270.364932     1201.637154  \n",
      "25%       4439.450840     4684.313807     4858.347495     5728.353514  \n",
      "50%       6618.743050     7113.692252     6994.774861     8948.102923  \n",
      "75%       8137.004775     9767.297530     8797.640716    11977.574960  \n",
      "max      32003.932240    35767.433030    39097.099550    42951.653090  \n",
      "       gdpPercap_1952  gdpPercap_1957  gdpPercap_1962  gdpPercap_1967  \\\n",
      "count       33.000000       33.000000       33.000000       33.000000   \n",
      "mean      5195.484004     5787.732940     5729.369625     5971.173374   \n",
      "std      18634.890865    19506.515959    16415.857196    14062.591362   \n",
      "min        331.000000      350.000000      388.000000      349.000000   \n",
      "25%        749.681655      793.577415      825.623201      836.197138   \n",
      "50%       1206.947913     1547.944844     1649.552153     2029.228142   \n",
      "75%       3035.326002     3290.257643     4187.329802     5906.731805   \n",
      "max     108382.352900   113523.132900    95458.111760    80894.883260   \n",
      "\n",
      "       gdpPercap_1972  gdpPercap_1977  gdpPercap_1982  gdpPercap_1987  \\\n",
      "count       33.000000       33.000000       33.000000       33.000000   \n",
      "mean      8187.468699     7791.314020     7434.135157     7608.226508   \n",
      "std      19087.502918    11815.777923     8701.176499     8090.262765   \n",
      "min        357.000000      371.000000      424.000000      385.000000   \n",
      "25%       1049.938981     1175.921193     1443.429832     1704.686583   \n",
      "50%       2571.423014     3195.484582     4106.525293     4106.492315   \n",
      "75%       8597.756202    11210.089480    12954.791010    11643.572680   \n",
      "max     109347.867000    59265.477140    33693.175250    28118.429980   \n",
      "\n",
      "       gdpPercap_1992  gdpPercap_1997  gdpPercap_2002  gdpPercap_2007  \n",
      "count       33.000000       33.000000       33.000000       33.000000  \n",
      "mean      8639.690248     9834.093295    10174.090397    12473.026870  \n",
      "std       9727.431088    11094.180481    11150.719203    14154.937343  \n",
      "min        347.000000      415.000000      611.000000      944.000000  \n",
      "25%       1785.402016     1902.252100     2092.712441     2452.210407  \n",
      "50%       3726.063507     3645.379572     4090.925331     4471.061906  \n",
      "75%      15215.657900    19702.055810    19233.988180    22316.192870  \n",
      "max      34932.919590    40300.619960    36023.105400    47306.989780  \n",
      "       gdpPercap_1952  gdpPercap_1957  gdpPercap_1962  gdpPercap_1967  \\\n",
      "count       30.000000       30.000000       30.000000       30.000000   \n",
      "mean      5661.057435     6963.012816     8365.486814    10143.823757   \n",
      "std       3114.060493     3677.950146     4199.193906     4724.983889   \n",
      "min        973.533195     1353.989176     1709.683679     2172.352423   \n",
      "25%       3241.132406     4394.874315     5373.536612     6657.939047   \n",
      "50%       5142.469716     6066.721495     7515.733738     9366.067033   \n",
      "75%       7236.794919     9597.220820    10931.085347    13277.182057   \n",
      "max      14734.232750    17909.489730    20431.092700    22966.144320   \n",
      "\n",
      "       gdpPercap_1972  gdpPercap_1977  gdpPercap_1982  gdpPercap_1987  \\\n",
      "count       30.000000       30.000000       30.000000       30.000000   \n",
      "mean     12479.575246    14283.979110    15617.896551    17214.310727   \n",
      "std       5509.691411     5874.464896     6453.234827     7482.957960   \n",
      "min       2860.169750     3528.481305     3630.880722     3738.932735   \n",
      "25%       9057.708095    10360.030300    11449.870115    12274.570680   \n",
      "50%      12326.379990    14225.754515    15322.824720    16215.485895   \n",
      "75%      16523.017127    19052.412163    20901.729730    23321.587723   \n",
      "max      27195.113040    26982.290520    28397.715120    31540.974800   \n",
      "\n",
      "       gdpPercap_1992  gdpPercap_1997  gdpPercap_2002  gdpPercap_2007  \n",
      "count       30.000000       30.000000       30.000000       30.000000  \n",
      "mean     17061.568084    19076.781802    21711.732422    25054.481636  \n",
      "std       9109.804361    10065.457716    11197.355517    11800.339811  \n",
      "min       2497.437901     3193.054604     4604.211737     5937.029526  \n",
      "25%       8667.113214     9946.599306    11721.851483    14811.898210  \n",
      "50%      17550.155945    19596.498550    23674.863230    28054.065790  \n",
      "75%      25034.243045    27189.530312    30373.363307    33817.962533  \n",
      "max      33965.661150    41283.164330    44683.975250    49357.190170  \n",
      "       gdpPercap_1952  gdpPercap_1957  gdpPercap_1962  gdpPercap_1967  \\\n",
      "count        2.000000        2.000000        2.000000        2.000000   \n",
      "mean     10298.085650    11598.522455    12696.452430    14495.021790   \n",
      "std        365.560078      917.644806      677.727301       43.986086   \n",
      "min      10039.595640    10949.649590    12217.226860    14463.918930   \n",
      "25%      10168.840645    11274.086022    12456.839645    14479.470360   \n",
      "50%      10298.085650    11598.522455    12696.452430    14495.021790   \n",
      "75%      10427.330655    11922.958888    12936.065215    14510.573220   \n",
      "max      10556.575660    12247.395320    13175.678000    14526.124650   \n",
      "\n",
      "       gdpPercap_1972  gdpPercap_1977  gdpPercap_1982  gdpPercap_1987  \\\n",
      "count         2.00000        2.000000        2.000000        2.000000   \n",
      "mean      16417.33338    17283.957605    18554.709840    20448.040160   \n",
      "std         525.09198     1485.263517     1304.328377     2037.668013   \n",
      "min       16046.03728    16233.717700    17632.410400    19007.191290   \n",
      "25%       16231.68533    16758.837652    18093.560120    19727.615725   \n",
      "50%       16417.33338    17283.957605    18554.709840    20448.040160   \n",
      "75%       16602.98143    17809.077557    19015.859560    21168.464595   \n",
      "max       16788.62948    18334.197510    19477.009280    21888.889030   \n",
      "\n",
      "       gdpPercap_1992  gdpPercap_1997  gdpPercap_2002  gdpPercap_2007  \n",
      "count        2.000000        2.000000        2.000000        2.000000  \n",
      "mean     20894.045885    24024.175170    26938.778040    29810.188275  \n",
      "std       3578.979883     4205.533703     5301.853680     6540.991104  \n",
      "min      18363.324940    21050.413770    23189.801350    25185.009110  \n",
      "25%      19628.685413    22537.294470    25064.289695    27497.598692  \n",
      "50%      20894.045885    24024.175170    26938.778040    29810.188275  \n",
      "75%      22159.406358    25511.055870    28813.266385    32122.777857  \n",
      "max      23424.766830    26997.936570    30687.754730    34435.367440  \n"
     ]
    }
   ],
   "source": [
    "for file in files:\n",
    "    data_test=pd.read_csv('data/'+file)\n",
    "    print(data_test.describe())"
   ]
  },
  {
   "cell_type": "code",
   "execution_count": 76,
   "metadata": {},
   "outputs": [
    {
     "name": "stdout",
     "output_type": "stream",
     "text": [
      "Index(['Algeria', 'Angola', 'Benin', 'Botswana', 'Burkina Faso', 'Burundi',\n",
      "       'Cameroon', 'Central African Republic', 'Chad', 'Comoros',\n",
      "       ...\n",
      "       'Serbia', 'Slovak Republic', 'Slovenia', 'Spain', 'Sweden',\n",
      "       'Switzerland', 'Turkey', 'United Kingdom', 'Australia', 'New Zealand'],\n",
      "      dtype='object', name='country', length=142)\n",
      "Index(['Algeria', 'Angola', 'Benin', 'Botswana', 'Burkina Faso', 'Burundi',\n",
      "       'Cameroon', 'Central African Republic', 'Chad', 'Comoros',\n",
      "       'Congo Dem. Rep.', 'Congo Rep.', 'Cote d'Ivoire', 'Djibouti', 'Egypt',\n",
      "       'Equatorial Guinea', 'Eritrea', 'Ethiopia', 'Gabon', 'Gambia', 'Ghana',\n",
      "       'Guinea', 'Guinea-Bissau', 'Kenya', 'Lesotho', 'Liberia', 'Libya',\n",
      "       'Madagascar', 'Malawi', 'Mali', 'Mauritania', 'Mauritius', 'Morocco',\n",
      "       'Mozambique', 'Namibia', 'Niger', 'Nigeria', 'Reunion', 'Rwanda',\n",
      "       'Sao Tome and Principe', 'Senegal', 'Sierra Leone', 'Somalia',\n",
      "       'South Africa', 'Sudan', 'Swaziland', 'Tanzania', 'Togo', 'Tunisia',\n",
      "       'Uganda', 'Zambia', 'Zimbabwe'],\n",
      "      dtype='object', name='country')\n",
      "Index(['Argentina', 'Bolivia', 'Brazil', 'Canada', 'Chile', 'Colombia',\n",
      "       'Costa Rica', 'Cuba', 'Dominican Republic', 'Ecuador', 'El Salvador',\n",
      "       'Guatemala', 'Haiti', 'Honduras', 'Jamaica', 'Mexico', 'Nicaragua',\n",
      "       'Panama', 'Paraguay', 'Peru', 'Puerto Rico', 'Trinidad and Tobago',\n",
      "       'United States', 'Uruguay', 'Venezuela'],\n",
      "      dtype='object', name='country')\n",
      "Index(['Afghanistan', 'Bahrain', 'Bangladesh', 'Cambodia', 'China',\n",
      "       'Hong Kong China', 'India', 'Indonesia', 'Iran', 'Iraq', 'Israel',\n",
      "       'Japan', 'Jordan', 'Korea Dem. Rep.', 'Korea Rep.', 'Kuwait', 'Lebanon',\n",
      "       'Malaysia', 'Mongolia', 'Myanmar', 'Nepal', 'Oman', 'Pakistan',\n",
      "       'Philippines', 'Saudi Arabia', 'Singapore', 'Sri Lanka', 'Syria',\n",
      "       'Taiwan', 'Thailand', 'Vietnam', 'West Bank and Gaza', 'Yemen Rep.'],\n",
      "      dtype='object', name='country')\n",
      "Index(['Albania', 'Austria', 'Belgium', 'Bosnia and Herzegovina', 'Bulgaria',\n",
      "       'Croatia', 'Czech Republic', 'Denmark', 'Finland', 'France', 'Germany',\n",
      "       'Greece', 'Hungary', 'Iceland', 'Ireland', 'Italy', 'Montenegro',\n",
      "       'Netherlands', 'Norway', 'Poland', 'Portugal', 'Romania', 'Serbia',\n",
      "       'Slovak Republic', 'Slovenia', 'Spain', 'Sweden', 'Switzerland',\n",
      "       'Turkey', 'United Kingdom'],\n",
      "      dtype='object', name='country')\n",
      "Index(['Australia', 'New Zealand'], dtype='object', name='country')\n"
     ]
    }
   ],
   "source": [
    "import glob\n",
    "for filename in glob.glob('data/*.csv'):\n",
    "    data=pd.read_csv(filename,index_col='country')\n",
    "    print(data.index)"
   ]
  },
  {
   "cell_type": "code",
   "execution_count": 77,
   "metadata": {},
   "outputs": [
    {
     "data": {
      "text/plain": [
       "['data/gapminder_gdp_americas.csv', 'data/gapminder_gdp_asia.csv']"
      ]
     },
     "execution_count": 77,
     "metadata": {},
     "output_type": "execute_result"
    }
   ],
   "source": [
    "glob.glob('data/*as*.csv')"
   ]
  },
  {
   "cell_type": "code",
   "execution_count": 78,
   "metadata": {},
   "outputs": [
    {
     "name": "stdout",
     "output_type": "stream",
     "text": [
      "Hello/Molo/Hallo\n"
     ]
    }
   ],
   "source": [
    "def print_greeting():\n",
    "    print('Hello/Molo/Hallo')\n",
    "    \n",
    "print_greeting()"
   ]
  },
  {
   "cell_type": "code",
   "execution_count": 80,
   "metadata": {},
   "outputs": [
    {
     "name": "stdout",
     "output_type": "stream",
     "text": [
      "1985/6/20\n"
     ]
    }
   ],
   "source": [
    "def print_bday(year,month,day):\n",
    "    joined=str(year)+'/'+str(month)+'/'+str(day)\n",
    "    print(joined)\n",
    "    \n",
    "print_bday(1985,6,20)"
   ]
  },
  {
   "cell_type": "code",
   "execution_count": 81,
   "metadata": {},
   "outputs": [
    {
     "name": "stdout",
     "output_type": "stream",
     "text": [
      "51.0\n"
     ]
    }
   ],
   "source": [
    "def average_func(values):\n",
    "    return sum(values)/len(values)\n",
    "\n",
    "average_age=average_func([30,45,78])\n",
    "print(average_age)"
   ]
  },
  {
   "cell_type": "code",
   "execution_count": 82,
   "metadata": {},
   "outputs": [
    {
     "name": "stdout",
     "output_type": "stream",
     "text": [
      "1985/6/20\n",
      "None\n"
     ]
    }
   ],
   "source": [
    "bday=print_bday(1985,6,20)\n",
    "print(bday)"
   ]
  },
  {
   "cell_type": "code",
   "execution_count": 85,
   "metadata": {
    "collapsed": true
   },
   "outputs": [],
   "source": [
    "volume=100\n",
    "def density(m):\n",
    "    return m/volume"
   ]
  },
  {
   "cell_type": "code",
   "execution_count": 86,
   "metadata": {},
   "outputs": [
    {
     "name": "stdout",
     "output_type": "stream",
     "text": [
      "0.1\n"
     ]
    }
   ],
   "source": [
    "print(density(10))\n",
    "#print(mass)"
   ]
  },
  {
   "cell_type": "code",
   "execution_count": 87,
   "metadata": {},
   "outputs": [
    {
     "name": "stdout",
     "output_type": "stream",
     "text": [
      "-1\n",
      "-2\n",
      "-3\n",
      "-4\n",
      "-5\n"
     ]
    }
   ],
   "source": [
    "#Create a function that takes a list of numbers and returns a new \n",
    "#list with the respective negative numbers. Assume the inpute \n",
    "#is positive numbers.\n",
    "\n",
    "def negative(number):\n",
    "    for i in number:\n",
    "        print(\"-\"+ str(i))\n",
    "\n",
    "negative([1,2,3,4,5])"
   ]
  },
  {
   "cell_type": "code",
   "execution_count": 88,
   "metadata": {},
   "outputs": [
    {
     "name": "stdout",
     "output_type": "stream",
     "text": [
      "range(1, 10) [-1, -2, -3, -4, -5, -6, -7, -8, -9]\n"
     ]
    }
   ],
   "source": [
    "\n",
    "\n",
    "## Possible solution\n",
    "numbers = range(1,10) \n",
    "def F_lg(numbers):\n",
    "    new_list = []\n",
    "    for i in range(len(numbers)):\n",
    "        var = numbers[i]*(-1)\n",
    "        new_list.append(var)    \n",
    "    return new_list\n",
    "neg_numbers=F_lg(numbers)\n",
    "print(numbers,neg_numbers)"
   ]
  },
  {
   "cell_type": "code",
   "execution_count": 92,
   "metadata": {},
   "outputs": [
    {
     "name": "stdout",
     "output_type": "stream",
     "text": [
      "Syntax errors are annoying.\n",
      "But at least python tells us about them!\n",
      "So they are usually not too hard to fix.\n"
     ]
    }
   ],
   "source": [
    "def another_function():\n",
    "    print(\"Syntax errors are annoying.\")\n",
    "    print(\"But at least python tells us about them!\")\n",
    "    print(\"So they are usually not too hard to fix.\")\n",
    "\n",
    "another_function()"
   ]
  },
  {
   "cell_type": "markdown",
   "metadata": {},
   "source": [
    "## Conditionals"
   ]
  },
  {
   "cell_type": "code",
   "execution_count": 93,
   "metadata": {},
   "outputs": [
    {
     "name": "stdout",
     "output_type": "stream",
     "text": [
      "True\n",
      "3.54 is large\n"
     ]
    }
   ],
   "source": [
    "mass =3.54\n",
    "print(mass>3.0)\n",
    "if mass>3.0:\n",
    "    print(mass,'is large')"
   ]
  },
  {
   "cell_type": "code",
   "execution_count": 94,
   "metadata": {},
   "outputs": [
    {
     "name": "stdout",
     "output_type": "stream",
     "text": [
      "False\n"
     ]
    }
   ],
   "source": [
    "mass =2.07\n",
    "print(mass>3.0)\n",
    "if mass>3.0:\n",
    "    print(mass,'is large')"
   ]
  },
  {
   "cell_type": "code",
   "execution_count": 101,
   "metadata": {},
   "outputs": [
    {
     "name": "stdout",
     "output_type": "stream",
     "text": [
      "3.4 is large\n",
      "5.2 is Huge\n",
      "1.2 is small\n",
      "4.1 is large\n"
     ]
    }
   ],
   "source": [
    "masses=[3.4,5.2,1.2,4.1]\n",
    "for m in masses:\n",
    "    if m>4.5:\n",
    "        print(m,'is Huge')\n",
    "    elif m>3.0:\n",
    "        print(m,'is large')\n",
    "    else:\n",
    "        print(m,'is small')"
   ]
  },
  {
   "cell_type": "code",
   "execution_count": 98,
   "metadata": {},
   "outputs": [
    {
     "name": "stdout",
     "output_type": "stream",
     "text": [
      "<class 'float'>\n",
      "<class 'int'>\n"
     ]
    }
   ],
   "source": [
    "print(type(3.0))\n",
    "print(type(3))"
   ]
  },
  {
   "cell_type": "code",
   "execution_count": 102,
   "metadata": {},
   "outputs": [
    {
     "name": "stdout",
     "output_type": "stream",
     "text": [
      "[0, 0.2, 0.4, 0.0, 0, 0.4]\n"
     ]
    }
   ],
   "source": [
    "original = [-1.5, 0.2, 0.4, 0.0, -1.3, 0.4]\n",
    "result = []\n",
    "for value in original:\n",
    "    if value<0:\n",
    "        result.append(0)\n",
    "    else:\n",
    "        result.append(value)\n",
    "print(result)"
   ]
  },
  {
   "cell_type": "code",
   "execution_count": 103,
   "metadata": {
    "collapsed": true
   },
   "outputs": [],
   "source": [
    "def pib_per_cap(exp):\n",
    "    '''\n",
    "    This function takes PIB per capita and return if it is high or low.\n",
    "    Input PIB per capita'''\n",
    "    if exp < 10000:\n",
    "        # This observation is in the first tier\n",
    "        return 'low'\n",
    "    elif exp >= 10000 and exp < 20000:\n",
    "        # This observation is in the second tier\n",
    "        return 'lower middle'\n",
    "    elif exp >= 20000 and exp < 30000:\n",
    "        # This observation is in the third tier\n",
    "        return 'middle'\n",
    "    elif exp >= 30000 and exp < 40000:\n",
    "        # This observation is in the forth tier\n",
    "        return 'upper middle'\n",
    "    elif exp >= 40000:\n",
    "        # This observation is in the fifth tier\n",
    "        return 'upper'\n",
    "    else:\n",
    "        # This observation has bad data\n",
    "        return None"
   ]
  },
  {
   "cell_type": "code",
   "execution_count": 104,
   "metadata": {},
   "outputs": [
    {
     "name": "stdout",
     "output_type": "stream",
     "text": [
      "Help on function pib_per_cap in module __main__:\n",
      "\n",
      "pib_per_cap(exp)\n",
      "    This function takes PIB per capita and return if it is high or low.\n",
      "    Input PIB per capita\n",
      "\n"
     ]
    }
   ],
   "source": [
    "help(pib_per_cap)"
   ]
  },
  {
   "cell_type": "code",
   "execution_count": 105,
   "metadata": {},
   "outputs": [
    {
     "name": "stdout",
     "output_type": "stream",
     "text": [
      "                        gdpPercap_1952  gdpPercap_1957  gdpPercap_1962  \\\n",
      "country                                                                  \n",
      "Albania                    1601.056136     1942.284244     2312.888958   \n",
      "Austria                    6137.076492     8842.598030    10750.721110   \n",
      "Belgium                    8343.105127     9714.960623    10991.206760   \n",
      "Bosnia and Herzegovina      973.533195     1353.989176     1709.683679   \n",
      "Bulgaria                   2444.286648     3008.670727     4254.337839   \n",
      "Croatia                    3119.236520     4338.231617     5477.890018   \n",
      "Czech Republic             6876.140250     8256.343918    10136.867130   \n",
      "Denmark                    9692.385245    11099.659350    13583.313510   \n",
      "Finland                    6424.519071     7545.415386     9371.842561   \n",
      "France                     7029.809327     8662.834898    10560.485530   \n",
      "Germany                    7144.114393    10187.826650    12902.462910   \n",
      "Greece                     3530.690067     4916.299889     6017.190733   \n",
      "Hungary                    5263.673816     6040.180011     7550.359877   \n",
      "Iceland                    7267.688428     9244.001412    10350.159060   \n",
      "Ireland                    5210.280328     5599.077872     6631.597314   \n",
      "Italy                      4931.404155     6248.656232     8243.582340   \n",
      "Montenegro                 2647.585601     3682.259903     4649.593785   \n",
      "Netherlands                8941.571858    11276.193440    12790.849560   \n",
      "Norway                    10095.421720    11653.973040    13450.401510   \n",
      "Poland                     4029.329699     4734.253019     5338.752143   \n",
      "Portugal                   3068.319867     3774.571743     4727.954889   \n",
      "Romania                    3144.613186     3943.370225     4734.997586   \n",
      "Serbia                     3581.459448     4981.090891     6289.629157   \n",
      "Slovak Republic            5074.659104     6093.262980     7481.107598   \n",
      "Slovenia                   4215.041741     5862.276629     7402.303395   \n",
      "Spain                      3834.034742     4564.802410     5693.843879   \n",
      "Sweden                     8527.844662     9911.878226    12329.441920   \n",
      "Switzerland               14734.232750    17909.489730    20431.092700   \n",
      "Turkey                     1969.100980     2218.754257     2322.869908   \n",
      "United Kingdom             9979.508487    11283.177950    12477.177070   \n",
      "\n",
      "                        gdpPercap_1967  gdpPercap_1972  gdpPercap_1977  \\\n",
      "country                                                                  \n",
      "Albania                    2760.196931     3313.422188     3533.003910   \n",
      "Austria                   12834.602400    16661.625600    19749.422300   \n",
      "Belgium                   13149.041190    16672.143560    19117.974480   \n",
      "Bosnia and Herzegovina     2172.352423     2860.169750     3528.481305   \n",
      "Bulgaria                   5577.002800     6597.494398     7612.240438   \n",
      "Croatia                    6960.297861     9164.090127    11305.385170   \n",
      "Czech Republic            11399.444890    13108.453600    14800.160620   \n",
      "Denmark                   15937.211230    18866.207210    20422.901500   \n",
      "Finland                   10921.636260    14358.875900    15605.422830   \n",
      "France                    12999.917660    16107.191710    18292.635140   \n",
      "Germany                   14745.625610    18016.180270    20512.921230   \n",
      "Greece                     8513.097016    12724.829570    14195.524280   \n",
      "Hungary                    9326.644670    10168.656110    11674.837370   \n",
      "Iceland                   13319.895680    15798.063620    19654.962470   \n",
      "Ireland                    7655.568963     9530.772896    11150.981130   \n",
      "Italy                     10022.401310    12269.273780    14255.984750   \n",
      "Montenegro                 5907.850937     7778.414017     9595.929905   \n",
      "Netherlands               15363.251360    18794.745670    21209.059200   \n",
      "Norway                    16361.876470    18965.055510    23311.349390   \n",
      "Poland                     6557.152776     8006.506993     9508.141454   \n",
      "Portugal                   6361.517993     9022.247417    10172.485720   \n",
      "Romania                    6470.866545     8011.414402     9356.397240   \n",
      "Serbia                     7991.707066    10522.067490    12980.669560   \n",
      "Slovak Republic            8412.902397     9674.167626    10922.664040   \n",
      "Slovenia                   9405.489397    12383.486200    15277.030170   \n",
      "Spain                      7993.512294    10638.751310    13236.921170   \n",
      "Sweden                    15258.296970    17832.024640    18855.725210   \n",
      "Switzerland               22966.144320    27195.113040    26982.290520   \n",
      "Turkey                     2826.356387     3450.696380     4269.122326   \n",
      "United Kingdom            14142.850890    15895.116410    17428.748460   \n",
      "\n",
      "                        gdpPercap_1982  gdpPercap_1987  gdpPercap_1992  \\\n",
      "country                                                                  \n",
      "Albania                    3630.880722     3738.932735     2497.437901   \n",
      "Austria                   21597.083620    23687.826070    27042.018680   \n",
      "Belgium                   20979.845890    22525.563080    25575.570690   \n",
      "Bosnia and Herzegovina     4126.613157     4314.114757     2546.781445   \n",
      "Bulgaria                   8224.191647     8239.854824     6302.623438   \n",
      "Croatia                   13221.821840    13822.583940     8447.794873   \n",
      "Czech Republic            15377.228550    16310.443400    14297.021220   \n",
      "Denmark                   21688.040480    25116.175810    26406.739850   \n",
      "Finland                   18533.157610    21141.012230    20647.164990   \n",
      "France                    20293.897460    22066.442140    24703.796150   \n",
      "Germany                   22031.532740    24639.185660    26505.303170   \n",
      "Greece                    15268.420890    16120.528390    17541.496340   \n",
      "Hungary                   12545.990660    12986.479980    10535.628550   \n",
      "Iceland                   23269.607500    26923.206280    25144.392010   \n",
      "Ireland                   12618.321410    13872.866520    17558.815550   \n",
      "Italy                     16537.483500    19207.234820    22013.644860   \n",
      "Montenegro                11222.587620    11732.510170     7003.339037   \n",
      "Netherlands               21399.460460    23651.323610    26790.949610   \n",
      "Norway                    26298.635310    31540.974800    33965.661150   \n",
      "Poland                     8451.531004     9082.351172     7738.881247   \n",
      "Portugal                  11753.842910    13039.308760    16207.266630   \n",
      "Romania                    9605.314053     9696.273295     6598.409903   \n",
      "Serbia                    15181.092700    15870.878510     9325.068238   \n",
      "Slovak Republic           11348.545850    12037.267580     9498.467723   \n",
      "Slovenia                  17866.721750    18678.534920    14214.716810   \n",
      "Spain                     13926.169970    15764.983130    18603.064520   \n",
      "Sweden                    20667.381250    23586.929270    23880.016830   \n",
      "Switzerland               28397.715120    30281.704590    31871.530300   \n",
      "Turkey                     4241.356344     5089.043686     5678.348271   \n",
      "United Kingdom            18232.424520    21664.787670    22705.092540   \n",
      "\n",
      "                        gdpPercap_1997  gdpPercap_2002  gdpPercap_2007  \\\n",
      "country                                                                  \n",
      "Albania                    3193.054604     4604.211737     5937.029526   \n",
      "Austria                   29095.920660    32417.607690    36126.492700   \n",
      "Belgium                   27561.196630    30485.883750    33692.605080   \n",
      "Bosnia and Herzegovina     4766.355904     6018.975239     7446.298803   \n",
      "Bulgaria                   5970.388760     7696.777725    10680.792820   \n",
      "Croatia                    9875.604515    11628.388950    14619.222720   \n",
      "Czech Republic            16048.514240    17596.210220    22833.308510   \n",
      "Denmark                   29804.345670    32166.500060    35278.418740   \n",
      "Finland                   23723.950200    28204.590570    33207.084400   \n",
      "France                    25889.784870    28926.032340    30470.016700   \n",
      "Germany                   27788.884160    30035.801980    32170.374420   \n",
      "Greece                    18747.698140    22514.254800    27538.411880   \n",
      "Hungary                   11712.776800    14843.935560    18008.944440   \n",
      "Iceland                   28061.099660    31163.201960    36180.789190   \n",
      "Ireland                   24521.947130    34077.049390    40675.996350   \n",
      "Italy                     24675.024460    27968.098170    28569.719700   \n",
      "Montenegro                 6465.613349     6557.194282     9253.896111   \n",
      "Netherlands               30246.130630    33724.757780    36797.933320   \n",
      "Norway                    41283.164330    44683.975250    49357.190170   \n",
      "Poland                    10159.583680    12002.239080    15389.924680   \n",
      "Portugal                  17641.031560    19970.907870    20509.647770   \n",
      "Romania                    7346.547557     7885.360081    10808.475610   \n",
      "Serbia                     7914.320304     7236.075251     9786.534714   \n",
      "Slovak Republic           12126.230650    13638.778370    18678.314350   \n",
      "Slovenia                  17161.107350    20660.019360    25768.257590   \n",
      "Spain                     20445.298960    24835.471660    28821.063700   \n",
      "Sweden                    25266.594990    29341.630930    33859.748350   \n",
      "Switzerland               32135.323010    34480.957710    37506.419070   \n",
      "Turkey                     6601.429915     6508.085718     8458.276384   \n",
      "United Kingdom            26074.531360    29478.999190    33203.261280   \n",
      "\n",
      "                                Tier  \n",
      "country                               \n",
      "Albania                          low  \n",
      "Austria                 upper middle  \n",
      "Belgium                 upper middle  \n",
      "Bosnia and Herzegovina           low  \n",
      "Bulgaria                lower middle  \n",
      "Croatia                 lower middle  \n",
      "Czech Republic                middle  \n",
      "Denmark                 upper middle  \n",
      "Finland                 upper middle  \n",
      "France                  upper middle  \n",
      "Germany                 upper middle  \n",
      "Greece                        middle  \n",
      "Hungary                 lower middle  \n",
      "Iceland                 upper middle  \n",
      "Ireland                        upper  \n",
      "Italy                         middle  \n",
      "Montenegro                       low  \n",
      "Netherlands             upper middle  \n",
      "Norway                         upper  \n",
      "Poland                  lower middle  \n",
      "Portugal                      middle  \n",
      "Romania                 lower middle  \n",
      "Serbia                           low  \n",
      "Slovak Republic         lower middle  \n",
      "Slovenia                      middle  \n",
      "Spain                         middle  \n",
      "Sweden                  upper middle  \n",
      "Switzerland             upper middle  \n",
      "Turkey                           low  \n",
      "United Kingdom          upper middle  \n"
     ]
    }
   ],
   "source": [
    "data = pd.read_csv('data/gapminder_gdp_europe.csv',index_col=0)\n",
    "data['Tier'] = data['gdpPercap_2007'].apply(pib_per_cap)\n",
    "data"
   ]
  },
  {
   "cell_type": "code",
   "execution_count": 107,
   "metadata": {},
   "outputs": [
    {
     "data": {
      "text/plain": [
       "country\n",
       "Albania                            low\n",
       "Austria                   upper middle\n",
       "Belgium                   upper middle\n",
       "Bosnia and Herzegovina             low\n",
       "Bulgaria                  lower middle\n",
       "Croatia                   lower middle\n",
       "Czech Republic                  middle\n",
       "Denmark                   upper middle\n",
       "Finland                   upper middle\n",
       "France                    upper middle\n",
       "Germany                   upper middle\n",
       "Greece                          middle\n",
       "Hungary                   lower middle\n",
       "Iceland                   upper middle\n",
       "Ireland                          upper\n",
       "Italy                           middle\n",
       "Montenegro                         low\n",
       "Netherlands               upper middle\n",
       "Norway                           upper\n",
       "Poland                    lower middle\n",
       "Portugal                        middle\n",
       "Romania                   lower middle\n",
       "Serbia                             low\n",
       "Slovak Republic           lower middle\n",
       "Slovenia                        middle\n",
       "Spain                           middle\n",
       "Sweden                    upper middle\n",
       "Switzerland               upper middle\n",
       "Turkey                             low\n",
       "United Kingdom            upper middle\n",
       "Name: Tier, dtype: object"
      ]
     },
     "execution_count": 107,
     "metadata": {},
     "output_type": "execute_result"
    }
   ],
   "source": [
    "data['Tier']"
   ]
  },
  {
   "cell_type": "code",
   "execution_count": 108,
   "metadata": {},
   "outputs": [
    {
     "name": "stdout",
     "output_type": "stream",
     "text": [
      "['low', 'upper middle', 'upper middle', 'low', 'lower middle', 'lower middle', 'middle', 'upper middle', 'upper middle', 'upper middle', 'upper middle', 'middle', 'lower middle', 'upper middle', 'upper', 'middle', 'low', 'upper middle', 'upper', 'lower middle', 'middle', 'lower middle', 'low', 'lower middle', 'middle', 'middle', 'upper middle', 'upper middle', 'low', 'upper middle']\n"
     ]
    }
   ],
   "source": [
    "dummy=[]\n",
    "for i in data['gdpPercap_2007']:\n",
    "    dummy.append(pib_per_cap(i))\n",
    "print(dummy)"
   ]
  },
  {
   "cell_type": "code",
   "execution_count": null,
   "metadata": {
    "collapsed": true
   },
   "outputs": [],
   "source": [
    "len=12"
   ]
  }
 ],
 "metadata": {
  "kernelspec": {
   "display_name": "Python 3",
   "language": "python",
   "name": "python3"
  },
  "language_info": {
   "codemirror_mode": {
    "name": "ipython",
    "version": 3
   },
   "file_extension": ".py",
   "mimetype": "text/x-python",
   "name": "python",
   "nbconvert_exporter": "python",
   "pygments_lexer": "ipython3",
   "version": "3.5.1"
  }
 },
 "nbformat": 4,
 "nbformat_minor": 1
}
